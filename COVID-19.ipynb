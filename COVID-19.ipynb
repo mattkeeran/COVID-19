{
 "cells": [
  {
   "cell_type": "markdown",
   "metadata": {},
   "source": [
    "## **Visualizing the spread of COVID-19 in the state of Florida**\n",
    "### By Matthew Keeran\n",
    "### 3/12/2020"
   ]
  },
  {
   "cell_type": "code",
   "execution_count": 1,
   "metadata": {},
   "outputs": [],
   "source": [
    "import imageio\n",
    "import numpy as np\n",
    "import pandas as pd\n",
    "import plotly.figure_factory as ff\n",
    "from datetime import datetime, timedelta\n",
    "%matplotlib inline"
   ]
  },
  {
   "cell_type": "markdown",
   "metadata": {},
   "source": [
    "#### **Read FIPS mappings for FL counties**"
   ]
  },
  {
   "cell_type": "code",
   "execution_count": 2,
   "metadata": {},
   "outputs": [
    {
     "data": {
      "text/html": [
       "<div>\n",
       "<style scoped>\n",
       "    .dataframe tbody tr th:only-of-type {\n",
       "        vertical-align: middle;\n",
       "    }\n",
       "\n",
       "    .dataframe tbody tr th {\n",
       "        vertical-align: top;\n",
       "    }\n",
       "\n",
       "    .dataframe thead th {\n",
       "        text-align: right;\n",
       "    }\n",
       "</style>\n",
       "<table border=\"1\" class=\"dataframe\">\n",
       "  <thead>\n",
       "    <tr style=\"text-align: right;\">\n",
       "      <th></th>\n",
       "      <th>County</th>\n",
       "      <th>FIPS</th>\n",
       "    </tr>\n",
       "  </thead>\n",
       "  <tbody>\n",
       "    <tr>\n",
       "      <th>0</th>\n",
       "      <td>alachua</td>\n",
       "      <td>12001</td>\n",
       "    </tr>\n",
       "    <tr>\n",
       "      <th>1</th>\n",
       "      <td>baker</td>\n",
       "      <td>12003</td>\n",
       "    </tr>\n",
       "    <tr>\n",
       "      <th>2</th>\n",
       "      <td>bay</td>\n",
       "      <td>12005</td>\n",
       "    </tr>\n",
       "    <tr>\n",
       "      <th>3</th>\n",
       "      <td>bradford</td>\n",
       "      <td>12007</td>\n",
       "    </tr>\n",
       "    <tr>\n",
       "      <th>4</th>\n",
       "      <td>brevard</td>\n",
       "      <td>12009</td>\n",
       "    </tr>\n",
       "    <tr>\n",
       "      <th>5</th>\n",
       "      <td>broward</td>\n",
       "      <td>12011</td>\n",
       "    </tr>\n",
       "    <tr>\n",
       "      <th>6</th>\n",
       "      <td>calhoun</td>\n",
       "      <td>12013</td>\n",
       "    </tr>\n",
       "    <tr>\n",
       "      <th>7</th>\n",
       "      <td>charlotte</td>\n",
       "      <td>12015</td>\n",
       "    </tr>\n",
       "    <tr>\n",
       "      <th>8</th>\n",
       "      <td>citrus</td>\n",
       "      <td>12017</td>\n",
       "    </tr>\n",
       "    <tr>\n",
       "      <th>9</th>\n",
       "      <td>clay</td>\n",
       "      <td>12019</td>\n",
       "    </tr>\n",
       "  </tbody>\n",
       "</table>\n",
       "</div>"
      ],
      "text/plain": [
       "      County   FIPS\n",
       "0    alachua  12001\n",
       "1      baker  12003\n",
       "2        bay  12005\n",
       "3   bradford  12007\n",
       "4    brevard  12009\n",
       "5    broward  12011\n",
       "6    calhoun  12013\n",
       "7  charlotte  12015\n",
       "8     citrus  12017\n",
       "9       clay  12019"
      ]
     },
     "execution_count": 2,
     "metadata": {},
     "output_type": "execute_result"
    }
   ],
   "source": [
    "\"\"\"\n",
    "    State & County FIPS codes (US Census)\n",
    "    https://www.census.gov/geographies/reference-files/2016/demo/popest/2016-fips.html\n",
    "\n",
    "code used to preprocess the data from csv above ^ \n",
    "I extracted only the 67 counties from FL from the entire list\n",
    "fips = pd.read_csv('COVID-19/data/county_mappings.csv')\n",
    "def decounty_county(s):\n",
    "    s = str(s)\n",
    "    return s[:-7].lower()\n",
    "\n",
    "def format_county_code(code):\n",
    "    code = str(code)\n",
    "    if len(code) == 1:\n",
    "        return '00' + code\n",
    "    elif len(code) == 2:\n",
    "        return '0' + code\n",
    "    else:\n",
    "        return code\n",
    "    \n",
    "fips['County'] = fips['Area Name (including legal/statistical area description)'].apply(lambda x: decounty_county(x))\n",
    "fips['State Code (FIPS)'] = fips['State Code (FIPS)'].apply(lambda x: str(x))\n",
    "fips['County Code (FIPS)'] = fips['County Code (FIPS)'].apply(lambda x: format_county_code(x))\n",
    "fips['FIPS'] = fips['State Code (FIPS)'] + fips['County Code (FIPS)']\n",
    "fips.drop([\n",
    "        'Summary Level',\n",
    "        'State Code (FIPS)',\n",
    "        'County Code (FIPS)',\n",
    "        'County Subdivision Code (FIPS)',\n",
    "        'Place Code (FIPS)',\n",
    "        'Consolidtated City Code (FIPS)',\n",
    "        'Area Name (including legal/statistical area description)'\n",
    "    ], axis=1, inplace=True)\n",
    "fips.to_csv('COVID-19/data/FL_FIPS.csv', index=False)\n",
    "\"\"\"\n",
    "fips = pd.read_csv('data/FL_FIPS.csv')\n",
    "fips.head(10)"
   ]
  },
  {
   "cell_type": "markdown",
   "metadata": {},
   "source": [
    "#### **Read data**"
   ]
  },
  {
   "cell_type": "code",
   "execution_count": 3,
   "metadata": {},
   "outputs": [
    {
     "name": "stdout",
     "output_type": "stream",
     "text": [
      "42\n"
     ]
    },
    {
     "data": {
      "text/html": [
       "<div>\n",
       "<style scoped>\n",
       "    .dataframe tbody tr th:only-of-type {\n",
       "        vertical-align: middle;\n",
       "    }\n",
       "\n",
       "    .dataframe tbody tr th {\n",
       "        vertical-align: top;\n",
       "    }\n",
       "\n",
       "    .dataframe thead th {\n",
       "        text-align: right;\n",
       "    }\n",
       "</style>\n",
       "<table border=\"1\" class=\"dataframe\">\n",
       "  <thead>\n",
       "    <tr style=\"text-align: right;\">\n",
       "      <th></th>\n",
       "      <th>published</th>\n",
       "      <th>county</th>\n",
       "      <th>age</th>\n",
       "      <th>sex</th>\n",
       "      <th>travel_related</th>\n",
       "    </tr>\n",
       "  </thead>\n",
       "  <tbody>\n",
       "    <tr>\n",
       "      <th>0</th>\n",
       "      <td>2020-03-01</td>\n",
       "      <td>manatee</td>\n",
       "      <td>63</td>\n",
       "      <td>male</td>\n",
       "      <td>no</td>\n",
       "    </tr>\n",
       "    <tr>\n",
       "      <th>1</th>\n",
       "      <td>2020-03-01</td>\n",
       "      <td>hillsborough</td>\n",
       "      <td>29</td>\n",
       "      <td>female</td>\n",
       "      <td>yes</td>\n",
       "    </tr>\n",
       "    <tr>\n",
       "      <th>2</th>\n",
       "      <td>2020-03-05</td>\n",
       "      <td>santa rosa</td>\n",
       "      <td>71</td>\n",
       "      <td>male</td>\n",
       "      <td>yes</td>\n",
       "    </tr>\n",
       "    <tr>\n",
       "      <th>3</th>\n",
       "      <td>2020-03-06</td>\n",
       "      <td>broward</td>\n",
       "      <td>75</td>\n",
       "      <td>male</td>\n",
       "      <td>no</td>\n",
       "    </tr>\n",
       "    <tr>\n",
       "      <th>4</th>\n",
       "      <td>2020-03-06</td>\n",
       "      <td>broward</td>\n",
       "      <td>65</td>\n",
       "      <td>male</td>\n",
       "      <td>no</td>\n",
       "    </tr>\n",
       "  </tbody>\n",
       "</table>\n",
       "</div>"
      ],
      "text/plain": [
       "   published        county  age     sex travel_related\n",
       "0 2020-03-01       manatee   63    male             no\n",
       "1 2020-03-01  hillsborough   29  female            yes\n",
       "2 2020-03-05    santa rosa   71    male            yes\n",
       "3 2020-03-06       broward   75    male             no\n",
       "4 2020-03-06       broward   65    male             no"
      ]
     },
     "execution_count": 3,
     "metadata": {},
     "output_type": "execute_result"
    }
   ],
   "source": [
    "df = pd.read_csv('data/FL_COVID-19.csv')\n",
    "df.drop(['dead','death_date','time_publication_to_death'], axis=1, inplace=True)\n",
    "df['published'] = df['published'].apply(lambda x: datetime.strptime(x, '%Y-%m-%d'))\n",
    "print(len(df))\n",
    "df.head()"
   ]
  },
  {
   "cell_type": "markdown",
   "metadata": {},
   "source": [
    "#### **resolve FIPS code for each county**"
   ]
  },
  {
   "cell_type": "code",
   "execution_count": 4,
   "metadata": {},
   "outputs": [
    {
     "data": {
      "text/html": [
       "<div>\n",
       "<style scoped>\n",
       "    .dataframe tbody tr th:only-of-type {\n",
       "        vertical-align: middle;\n",
       "    }\n",
       "\n",
       "    .dataframe tbody tr th {\n",
       "        vertical-align: top;\n",
       "    }\n",
       "\n",
       "    .dataframe thead th {\n",
       "        text-align: right;\n",
       "    }\n",
       "</style>\n",
       "<table border=\"1\" class=\"dataframe\">\n",
       "  <thead>\n",
       "    <tr style=\"text-align: right;\">\n",
       "      <th></th>\n",
       "      <th>published</th>\n",
       "      <th>county</th>\n",
       "      <th>age</th>\n",
       "      <th>sex</th>\n",
       "      <th>travel_related</th>\n",
       "      <th>FIPS</th>\n",
       "    </tr>\n",
       "  </thead>\n",
       "  <tbody>\n",
       "    <tr>\n",
       "      <th>0</th>\n",
       "      <td>2020-03-01</td>\n",
       "      <td>manatee</td>\n",
       "      <td>63</td>\n",
       "      <td>male</td>\n",
       "      <td>no</td>\n",
       "      <td>12081</td>\n",
       "    </tr>\n",
       "    <tr>\n",
       "      <th>1</th>\n",
       "      <td>2020-03-01</td>\n",
       "      <td>hillsborough</td>\n",
       "      <td>29</td>\n",
       "      <td>female</td>\n",
       "      <td>yes</td>\n",
       "      <td>12057</td>\n",
       "    </tr>\n",
       "    <tr>\n",
       "      <th>2</th>\n",
       "      <td>2020-03-05</td>\n",
       "      <td>santa rosa</td>\n",
       "      <td>71</td>\n",
       "      <td>male</td>\n",
       "      <td>yes</td>\n",
       "      <td>12113</td>\n",
       "    </tr>\n",
       "    <tr>\n",
       "      <th>3</th>\n",
       "      <td>2020-03-06</td>\n",
       "      <td>broward</td>\n",
       "      <td>75</td>\n",
       "      <td>male</td>\n",
       "      <td>no</td>\n",
       "      <td>12011</td>\n",
       "    </tr>\n",
       "    <tr>\n",
       "      <th>4</th>\n",
       "      <td>2020-03-06</td>\n",
       "      <td>broward</td>\n",
       "      <td>65</td>\n",
       "      <td>male</td>\n",
       "      <td>no</td>\n",
       "      <td>12011</td>\n",
       "    </tr>\n",
       "  </tbody>\n",
       "</table>\n",
       "</div>"
      ],
      "text/plain": [
       "   published        county  age     sex travel_related   FIPS\n",
       "0 2020-03-01       manatee   63    male             no  12081\n",
       "1 2020-03-01  hillsborough   29  female            yes  12057\n",
       "2 2020-03-05    santa rosa   71    male            yes  12113\n",
       "3 2020-03-06       broward   75    male             no  12011\n",
       "4 2020-03-06       broward   65    male             no  12011"
      ]
     },
     "execution_count": 4,
     "metadata": {},
     "output_type": "execute_result"
    }
   ],
   "source": [
    "def fipify(x):\n",
    "    # probably a better way to do this?\n",
    "    return fips[fips['County'] == x]['FIPS'].iloc[0]\n",
    "\n",
    "df['FIPS'] = df['county'].apply(lambda x: fipify(x))\n",
    "df.head()"
   ]
  },
  {
   "cell_type": "code",
   "execution_count": 6,
   "metadata": {},
   "outputs": [
    {
     "data": {
      "text/plain": [
       "[numpy.datetime64('2020-03-01T00:00:00.000000000'),\n",
       " numpy.datetime64('2020-03-05T00:00:00.000000000'),\n",
       " numpy.datetime64('2020-03-06T00:00:00.000000000'),\n",
       " numpy.datetime64('2020-03-07T00:00:00.000000000'),\n",
       " numpy.datetime64('2020-03-08T00:00:00.000000000'),\n",
       " numpy.datetime64('2020-03-09T00:00:00.000000000'),\n",
       " numpy.datetime64('2020-03-10T00:00:00.000000000'),\n",
       " numpy.datetime64('2020-03-11T00:00:00.000000000'),\n",
       " numpy.datetime64('2020-03-12T00:00:00.000000000'),\n",
       " numpy.datetime64('2020-03-13T00:00:00.000000000')]"
      ]
     },
     "execution_count": 6,
     "metadata": {},
     "output_type": "execute_result"
    }
   ],
   "source": [
    "dates = list(df['published'].unique())\n",
    "dates"
   ]
  },
  {
   "cell_type": "code",
   "execution_count": 7,
   "metadata": {},
   "outputs": [],
   "source": [
    "# date_freqs = [{date1},{date2}]\n",
    "# date_freqs[0] = {\"date\": date1, \"counties\": {}}\n",
    "# date_freqs[0]['counties'] = {'county1': freq1, 'county2': freq2}\n",
    "dates_freqs = []\n",
    "# for every date get all cases up to and including that day\n",
    "for date in dates:\n",
    "    counties = {}\n",
    "    tmp = df[df['published'] <= date]\n",
    "    # then get all the frequencies for each county\n",
    "    for county in list(tmp['county'].unique()):\n",
    "        tmp2 = tmp[tmp['county'] == county]\n",
    "        counties[tmp2['FIPS'].iloc[0]] = len(tmp2)\n",
    "    dates_freqs.append({\"date\" : date, \"counties\" : counties})"
   ]
  },
  {
   "cell_type": "code",
   "execution_count": 8,
   "metadata": {},
   "outputs": [],
   "source": [
    "fip_list = fips['FIPS'].tolist()"
   ]
  },
  {
   "cell_type": "markdown",
   "metadata": {},
   "source": [
    "#### **Create Chloropleth (sounds like an evil alien species, and is about as much fun to work with)**\n",
    "#### I wish I could provide a documentation page which shows all the methods and attributes of the object, but alas I could not find one. \n",
    "#### best I could do https://plot.ly/python/county-choropleth/, \n",
    "#### yes I know its deprecated but the new way's (https://plot.ly/python/choropleth-maps/) tutorial doesn't show how to do individual states at the county level."
   ]
  },
  {
   "cell_type": "code",
   "execution_count": 9,
   "metadata": {},
   "outputs": [],
   "source": [
    "maxi      = max(list(dates_freqs[-1]['counties'].values()))\n",
    "endpts    = [0,1,2,3,4,5,10]#,15,20,30,40,50,75,100]\n",
    "fips      = fip_list\n",
    "filenames = []\n",
    "for date in dates_freqs:\n",
    "    counties = date['counties']\n",
    "    values   = [counties.get(fip, 0) for fip in fip_list]\n",
    "\n",
    "    colorscale = [\"#008712\",\"#c8ff70\",\"#f4fc00\", \"#bda000\", \"#fc9700\", \"#a34502\", \"#fc6900\", \"#fc5400\", \"#fc0000\", \"#fc0000\", \"#fc0000\"]\n",
    "    \n",
    "    fig = ff.create_choropleth(\n",
    "        fips=fips, values=values, scope=['Florida'], show_state_data=True,\n",
    "        colorscale=colorscale, \n",
    "        binning_endpoints=endpts, \n",
    "        round_legend_values=True,\n",
    "        plot_bgcolor='rgb(0,0,255)',\n",
    "        paper_bgcolor='rgb(0,0,255)',\n",
    "        legend_title='Cases by County',\n",
    "        title='Distribution of COVID-19 in FL: {}'.format(date['date'].astype(str)[:10]),\n",
    "        county_outline={'color': 'rgb(255,255,255)', 'width': 0.5},\n",
    "        font={\"color\":\"#945600\", \"size\":17}\n",
    "    )\n",
    "    fig.layout.template = None\n",
    "    file_nm = 'images/{}_fl_covid-19.png'.format(date['date'].astype(str)[:10])\n",
    "    fig.write_image(file_nm)\n",
    "    filenames.append(file_nm)"
   ]
  },
  {
   "cell_type": "markdown",
   "metadata": {},
   "source": [
    "#### **Make Gif from daily images**"
   ]
  },
  {
   "cell_type": "code",
   "execution_count": 10,
   "metadata": {},
   "outputs": [],
   "source": [
    "dt = datetime.utcnow().date().isoformat()\n",
    "images = []\n",
    "for file in filenames:\n",
    "    images.append(imageio.imread(file))\n",
    "imageio.mimsave('{}_FL.gif'.format(dt), images)"
   ]
  },
  {
   "cell_type": "code",
   "execution_count": null,
   "metadata": {},
   "outputs": [],
   "source": []
  }
 ],
 "metadata": {
  "kernelspec": {
   "display_name": "Python 3",
   "language": "python",
   "name": "python3"
  },
  "language_info": {
   "codemirror_mode": {
    "name": "ipython",
    "version": 3
   },
   "file_extension": ".py",
   "mimetype": "text/x-python",
   "name": "python",
   "nbconvert_exporter": "python",
   "pygments_lexer": "ipython3",
   "version": "3.7.6"
  }
 },
 "nbformat": 4,
 "nbformat_minor": 2
}
